{
 "cells": [
  {
   "cell_type": "code",
   "execution_count": null,
   "id": "fiscal-newark",
   "metadata": {},
   "outputs": [],
   "source": [
    "Reaction Time Analysis"
   ]
  },
  {
   "cell_type": "code",
   "execution_count": 18,
   "id": "stuck-polymer",
   "metadata": {},
   "outputs": [],
   "source": [
    "import pandas as pd\n",
    "import seaborn as sms\n",
    "from matplotlib import pyplot as plt\n",
    "from scipy.stats import ttest_ind "
   ]
  },
  {
   "cell_type": "code",
   "execution_count": 15,
   "id": "functioning-boards",
   "metadata": {},
   "outputs": [
    {
     "data": {
      "text/plain": [
       "<BarContainer object of 2 artists>"
      ]
     },
     "execution_count": 15,
     "metadata": {},
     "output_type": "execute_result"
    },
    {
     "data": {
      "image/png": "[encoded data removed]",
      "text/plain": [
       "<Figure size 432x288 with 1 Axes>"
      ]
     },
     "metadata": {
      "needs_background": "light"
     },
     "output_type": "display_data"
    }
   ],
   "source": [
    "df_reaction_time = pd.read_csv('participant_1_data.csv')\n",
    "plt.bar(\"Condition a\", df_reaction_time[df_reaction_time['condition'] == 'A']['reactionTime'])\n",
    "plt.bar(\"Condition b\", df_reaction_time[df_reaction_time['condition'] == 'B']['reactionTime'])\n",
    "\n",
    "## NOCH DURCHSCHNITT BERECHNEN"
   ]
  },
  {
   "cell_type": "code",
   "execution_count": 16,
   "id": "major-theme",
   "metadata": {},
   "outputs": [
    {
     "data": {
      "text/plain": [
       "<AxesSubplot:xlabel='reactionTime', ylabel='participantID'>"
      ]
     },
     "execution_count": 16,
     "metadata": {},
     "output_type": "execute_result"
    },
    {
     "data": {
      "image/png": "[encoded data removed]",
      "text/plain": [
       "<Figure size 432x288 with 1 Axes>"
      ]
     },
     "metadata": {
      "needs_background": "light"
     },
     "output_type": "display_data"
    }
   ],
   "source": [
    "df_reaction_time = pd.read_csv('participant_1_data.csv')\n",
    "sms.scatterplot(data=df_reaction_time, x=\"reactionTime\",y=\"participantID\", hue=\"condition\")"
   ]
  },
  {
   "cell_type": "code",
   "execution_count": 19,
   "id": "eleven-documentation",
   "metadata": {},
   "outputs": [
    {
     "data": {
      "text/plain": [
       "Ttest_indResult(statistic=-1.0295152186582166, pvalue=0.4114558577160754)"
      ]
     },
     "execution_count": 19,
     "metadata": {},
     "output_type": "execute_result"
    }
   ],
   "source": [
    "condition_a_results = df_reaction_time[df_reaction_time['condition']=='A']['reactionTime']\n",
    "condition_b_results = df_reaction_time[df_reaction_time['condition']=='B']['reactionTime']\n",
    "ttest_ind(condition_a_results, condition_b_results)"
   ]
  },
  {
   "cell_type": "code",
   "execution_count": null,
   "id": "freelance-restriction",
   "metadata": {},
   "outputs": [],
   "source": []
  }
 ],
 "metadata": {
  "kernelspec": {
   "display_name": "Python 3",
   "language": "python",
   "name": "python3"
  },
  "language_info": {
   "codemirror_mode": {
    "name": "ipython",
    "version": 3
   },
   "file_extension": ".py",
   "mimetype": "text/x-python",
   "name": "python",
   "nbconvert_exporter": "python",
   "pygments_lexer": "ipython3",
   "version": "3.9.2"
  }
 },
 "nbformat": 4,
 "nbformat_minor": 5
}
